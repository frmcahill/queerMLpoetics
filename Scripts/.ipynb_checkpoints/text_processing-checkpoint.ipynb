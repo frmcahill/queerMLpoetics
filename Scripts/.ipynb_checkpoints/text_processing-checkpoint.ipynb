{
 "cells": [
  {
   "cell_type": "code",
   "execution_count": 1,
   "metadata": {},
   "outputs": [],
   "source": [
    "import re\n",
    "import requests\n",
    "import csv"
   ]
  },
  {
   "cell_type": "code",
   "execution_count": 7,
   "metadata": {},
   "outputs": [],
   "source": [
    "author_url_dict = {}\n",
    "author_url_dict['Housman, A.E.'] = ['http://www.gutenberg.org/cache/epub/5720/pg5720.txt',\n",
    "                                   'http://www.gutenberg.org/cache/epub/7848/pg7848.txt']\n",
    "author_url_dict['Wilde, Oscar'] = ['https://www.gutenberg.org/files/1057/1057-0.txt']\n",
    "author_url_dict['Arnold, Matthew'] = ['http://www.gutenberg.org/cache/epub/27739/pg27739.txt']\n",
    "author_url_dict['Cory, William Johnson'] = ['http://www.gutenberg.org/cache/epub/21766/pg21766.txt']\n",
    "author_url_dict['Symonds, John Addington'] = ['https://ia802509.us.archive.org/28/items/vagabundulilibel00symoiala/vagabundulilibel00symoiala_djvu.txt']\n",
    "author_url_dict['Douglas, Alfred'] = ['https://ia800906.us.archive.org/30/items/collectedpoemsof00dougrich/collectedpoemsof00dougrich_djvu.txt']\n",
    "author_url_dict['Custance, Olive'] = ['http://www.gutenberg.org/cache/epub/22736/pg22736.txt',\n",
    "                                     'https://ia902608.us.archive.org/2/items/opals00poetgoog/opals00poetgoog_djvu.txt']\n",
    "author_url_dict['Barney, Natalie Clifford'] = ['http://www.gutenberg.org/files/49942/49942-0.txt']\n",
    "author_url_dict['Gray, John'] = ['http://www.gutenberg.org/cache/epub/21211/pg21211.txt']\n",
    "author_url_dict['Dowson, Ernest'] = ['http://www.gutenberg.org/cache/epub/8497/pg8497.txt']\n",
    "author_url_dict['Rossetti, Dante Gabriel'] = ['https://ia800206.us.archive.org/1/items/collectedworksd07rossgoog/collectedworksd07rossgoog_djvu.txt']\n",
    "author_url_dict['Tennyson, Alfred Lord'] = ['http://www.gutenberg.org/cache/epub/1358/pg1358.txt', \n",
    "                                            'http://www.gutenberg.org/cache/epub/610/pg610.txt', \n",
    "                                           'https://ia800206.us.archive.org/31/items/tiresiasotherpoe00tennrich/tiresiasotherpoe00tennrich_djvu.txt',\n",
    "                                           'https://ia600208.us.archive.org/21/items/locksleyhallsixt00tenn/locksleyhallsixt00tenn_djvu.txt',\n",
    "                                           'https://ia800502.us.archive.org/6/items/balladsotherpoem00tennrich/balladsotherpoem00tennrich_djvu.txt',\n",
    "                                           'https://ia600201.us.archive.org/32/items/otherpoholygrail00tennrich/otherpoholygrail00tennrich_djvu.txt']\n",
    "author_url_dict['Browning, Elizabeth Barrett'] = ['http://www.gutenberg.org/cache/epub/31015/pg31015.txt']\n",
    "author_url_dict['Browning, Robert'] = ['http://www.gutenberg.org/files/50954/50954-0.txt']\n",
    "author_url_dict['Rossetti, Christina'] = ['http://www.gutenberg.org/cache/epub/19188/pg19188.txt',\n",
    "                                         'https://ia802609.us.archive.org/18/items/newpoemsbychrist00rossrich/newpoemsbychrist00rossrich_djvu.txt']\n",
    "author_url_dict['Swinburne, Charles Algernon'] = ['http://www.gutenberg.org/cache/epub/35402/pg35402.txt',\n",
    "                                                 'http://www.gutenberg.org/files/4072/4072-0.txt',\n",
    "                                                 'http://www.gutenberg.org/cache/epub/8127/pg8127.txt',\n",
    "                                                 'http://www.gutenberg.org/cache/epub/27401/pg27401.txt',\n",
    "                                                 'http://www.gutenberg.org/cache/epub/18782/pg18782.txt',\n",
    "                                                 'http://www.gutenberg.org/cache/epub/18287/pg18287.txt',\n",
    "                                                 'http://www.gutenberg.org/files/2136/2136-0.txt',\n",
    "                                                 'http://www.gutenberg.org/cache/epub/17347/pg17347.txt',\n",
    "                                                 'http://www.gutenberg.org/cache/epub/18524/pg18524.txt',\n",
    "                                                 'http://www.gutenberg.org/cache/epub/18726/pg18726.txt',\n",
    "                                                 'http://www.gutenberg.org/cache/epub/18673/pg18673.txt',\n",
    "                                                 'http://www.gutenberg.org/cache/epub/18871/pg18871.txt',\n",
    "                                                 'http://www.gutenberg.org/cache/epub/18210/pg18210.txt',\n",
    "                                                 'http://www.gutenberg.org/cache/epub/18424/pg18424.txt',\n",
    "                                                 'http://www.gutenberg.org/cache/epub/16973/pg16973.txt']\n",
    "author_url_dict['Allingham, William'] = ['https://ia800905.us.archive.org/1/items/poems00alli/poems00alli_djvu.txt', \n",
    "                                         'http://www.gutenberg.org/cache/epub/16839/pg16839.txt']\n",
    "author_url_dict['Hopkins, Gerard Manley'] = ['http://www.gutenberg.org/cache/epub/22403/pg22403.txt']\n",
    "author_url_dict['Morris, William'] = ['http://www.gutenberg.org/cache/epub/22650/pg22650.txt',\n",
    "                                     'http://www.gutenberg.org/cache/epub/15311/pg15311.txt',\n",
    "                                     'http://www.gutenberg.org/files/3170/3170-0.txt',\n",
    "                                     'http://www.gutenberg.org/cache/epub/30332/pg30332.txt',\n",
    "                                     'https://ia802704.us.archive.org/22/items/earthlyparadise15morrgoog/earthlyparadise15morrgoog_djvu.txt',\n",
    "                                     'https://ia801601.us.archive.org/18/items/in.ernet.dli.2015.101804/2015.101804.The-Earthly-Paradise-A-Poem_djvu.txt',\n",
    "                                     'https://ia802703.us.archive.org/17/items/earthlyparadisep02morriala/earthlyparadisep02morriala_djvu.txt',\n",
    "                                     'https://ia800202.us.archive.org/30/items/lifedeathofjason00morrrich/lifedeathofjason00morrrich_djvu.txt']\n",
    "\n",
    "\n",
    "\n"
   ]
  },
  {
   "cell_type": "code",
   "execution_count": 8,
   "metadata": {},
   "outputs": [
    {
     "data": {
      "text/plain": [
       "['http://www.gutenberg.org/cache/epub/5720/pg5720.txt',\n",
       " 'http://www.gutenberg.org/cache/epub/7848/pg7848.txt']"
      ]
     },
     "execution_count": 8,
     "metadata": {},
     "output_type": "execute_result"
    }
   ],
   "source": [
    "author_url_dict['Housman, A.E.']"
   ]
  },
  {
   "cell_type": "code",
   "execution_count": 9,
   "metadata": {},
   "outputs": [],
   "source": [
    "path = '/Users/frankcahill/Library/Mobile Documents/com~apple~CloudDocs/Documents/Queer:quant/QMLP_code/'\n",
    "for author in author_url_dict.keys():\n",
    "    i = 0\n",
    "    for url in author_url_dict[author]:\n",
    "        text = requests.get(url).text\n",
    "        if i == 0:\n",
    "            with open(r'{}Texts/Unprocessed/{}.txt'.format(path, author), 'w') as f:\n",
    "                f.write(text)\n",
    "        else:\n",
    "            with open(r'{}Texts/Unprocessed/{}.txt'.format(path, author), 'a+') as f:\n",
    "                f.write('\\n\\n')\n",
    "                f.write(text)\n",
    "        i += 1"
   ]
  },
  {
   "cell_type": "code",
   "execution_count": null,
   "metadata": {},
   "outputs": [],
   "source": []
  }
 ],
 "metadata": {
  "kernelspec": {
   "display_name": "Python 3",
   "language": "python",
   "name": "python3"
  },
  "language_info": {
   "codemirror_mode": {
    "name": "ipython",
    "version": 3
   },
   "file_extension": ".py",
   "mimetype": "text/x-python",
   "name": "python",
   "nbconvert_exporter": "python",
   "pygments_lexer": "ipython3",
   "version": "3.7.6"
  }
 },
 "nbformat": 4,
 "nbformat_minor": 4
}
