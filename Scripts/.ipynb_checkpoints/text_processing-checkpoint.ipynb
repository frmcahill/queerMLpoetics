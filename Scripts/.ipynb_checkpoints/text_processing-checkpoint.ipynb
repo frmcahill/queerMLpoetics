{
 "cells": [
  {
   "cell_type": "code",
   "execution_count": 2,
   "metadata": {},
   "outputs": [],
   "source": [
    "import re\n",
    "import requests\n",
    "import csv"
   ]
  },
  {
   "cell_type": "code",
   "execution_count": 3,
   "metadata": {},
   "outputs": [],
   "source": [
    "author_url_dict = {}\n",
    "author_url_dict['Wilde, Oscar'] = ['https://www.gutenberg.org/files/1057/1057-0.txt']\n",
    "\n",
    "author_url_dict['Arnold, Matthew'] = ['http://www.gutenberg.org/cache/epub/27739/pg27739.txt']\n"
   ]
  },
  {
   "cell_type": "code",
   "execution_count": 36,
   "metadata": {},
   "outputs": [],
   "source": [
    "\n",
    "for author in author_url_dict[uranian].keys():\n",
    "    i = 0\n",
    "    for url in author_url_dict[uranian][author]:\n",
    "        text = requests.get(url).text\n",
    "        if i == 0:\n",
    "            with open(r'QMLP_code/Texts/Unprocessed/{}.txt'.format(author), 'w') as f:\n",
    "                f.write(text)\n",
    "        else:\n",
    "            with open(r'QMLP/Texts/Unprocessed/{}.txt'.format(author), 'a+') as f:\n",
    "                f.write('\\n\\n')\n",
    "                f.write(text)\n",
    "        i += 1"
   ]
  },
  {
   "cell_type": "code",
   "execution_count": 17,
   "metadata": {},
   "outputs": [],
   "source": [
    "with open('Texts/Unprocessed/Wilde, Oscar.txt', 'w') as f:\n",
    "    f.write(text)"
   ]
  },
  {
   "cell_type": "code",
   "execution_count": null,
   "metadata": {},
   "outputs": [],
   "source": []
  }
 ],
 "metadata": {
  "kernelspec": {
   "display_name": "Python 3",
   "language": "python",
   "name": "python3"
  },
  "language_info": {
   "codemirror_mode": {
    "name": "ipython",
    "version": 3
   },
   "file_extension": ".py",
   "mimetype": "text/x-python",
   "name": "python",
   "nbconvert_exporter": "python",
   "pygments_lexer": "ipython3",
   "version": "3.7.6"
  }
 },
 "nbformat": 4,
 "nbformat_minor": 4
}
