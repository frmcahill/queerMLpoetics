{
 "cells": [
  {
   "cell_type": "code",
   "execution_count": 1,
   "metadata": {},
   "outputs": [],
   "source": [
    "import re\n",
    "import requests\n",
    "import csv"
   ]
  },
  {
   "cell_type": "code",
   "execution_count": 7,
   "metadata": {},
   "outputs": [],
   "source": [
    "author_url_dict = {}\n",
    "author_url_dict['Housman, A.E.'] = ['http://www.gutenberg.org/cache/epub/5720/pg5720.txt',\n",
    "                                   'http://www.gutenberg.org/cache/epub/7848/pg7848.txt']\n",
    "author_url_dict['Wilde, Oscar'] = ['https://www.gutenberg.org/files/1057/1057-0.txt']\n",
    "author_url_dict['Arnold, Matthew'] = ['http://www.gutenberg.org/cache/epub/27739/pg27739.txt']\n",
    "author_url_dict['Cory, William Johnson'] = ['http://www.gutenberg.org/cache/epub/21766/pg21766.txt']\n",
    "author_url_dict['Symonds, John Addington'] = ['https://ia802509.us.archive.org/28/items/vagabundulilibel00symoiala/vagabundulilibel00symoiala_djvu.txt']\n",
    "author_url_dict['Douglas, Alfred'] = ['https://ia800906.us.archive.org/30/items/collectedpoemsof00dougrich/collectedpoemsof00dougrich_djvu.txt']\n",
    "author_url_dict['Custance, Olive'] = ['http://www.gutenberg.org/cache/epub/22736/pg22736.txt',\n",
    "                                     'https://ia902608.us.archive.org/2/items/opals00poetgoog/opals00poetgoog_djvu.txt']\n",
    "author_url_dict['Barney, Natalie Clifford'] = ['http://www.gutenberg.org/files/49942/49942-0.txt']\n",
    "author_url_dict['Gray, John'] = ['http://www.gutenberg.org/cache/epub/21211/pg21211.txt']\n",
    "author_url_dict['Dowson, Ernest'] = ['http://www.gutenberg.org/cache/epub/8497/pg8497.txt']\n",
    "\n"
   ]
  },
  {
   "cell_type": "code",
   "execution_count": 8,
   "metadata": {},
   "outputs": [
    {
     "data": {
      "text/plain": [
       "['http://www.gutenberg.org/cache/epub/5720/pg5720.txt',\n",
       " 'http://www.gutenberg.org/cache/epub/7848/pg7848.txt']"
      ]
     },
     "execution_count": 8,
     "metadata": {},
     "output_type": "execute_result"
    }
   ],
   "source": [
    "author_url_dict['Housman, A.E.']"
   ]
  },
  {
   "cell_type": "code",
   "execution_count": 9,
   "metadata": {},
   "outputs": [],
   "source": [
    "path = '/Users/frankcahill/Library/Mobile Documents/com~apple~CloudDocs/Documents/Queer:quant/QMLP_code/'\n",
    "for author in author_url_dict.keys():\n",
    "    i = 0\n",
    "    for url in author_url_dict[author]:\n",
    "        text = requests.get(url).text\n",
    "        if i == 0:\n",
    "            with open(r'{}Texts/Unprocessed/{}.txt'.format(path, author), 'w') as f:\n",
    "                f.write(text)\n",
    "        else:\n",
    "            with open(r'{}Texts/Unprocessed/{}.txt'.format(path, author), 'a+') as f:\n",
    "                f.write('\\n\\n')\n",
    "                f.write(text)\n",
    "        i += 1"
   ]
  },
  {
   "cell_type": "code",
   "execution_count": null,
   "metadata": {},
   "outputs": [],
   "source": []
  }
 ],
 "metadata": {
  "kernelspec": {
   "display_name": "Python 3",
   "language": "python",
   "name": "python3"
  },
  "language_info": {
   "codemirror_mode": {
    "name": "ipython",
    "version": 3
   },
   "file_extension": ".py",
   "mimetype": "text/x-python",
   "name": "python",
   "nbconvert_exporter": "python",
   "pygments_lexer": "ipython3",
   "version": "3.7.6"
  }
 },
 "nbformat": 4,
 "nbformat_minor": 4
}
